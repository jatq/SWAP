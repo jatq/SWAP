{
 "cells": [
  {
   "attachments": {},
   "cell_type": "markdown",
   "metadata": {},
   "source": [
    "The proposed architecture of SWAP ( seismic wave azimuth predictor):\n",
    "<div align=center><img src=\"images/SWAP_network_architecture.png\"></div>"
   ]
  },
  {
   "attachments": {},
   "cell_type": "markdown",
   "metadata": {},
   "source": [
    "## import needed modules"
   ]
  },
  {
   "cell_type": "code",
   "execution_count": 1,
   "metadata": {},
   "outputs": [],
   "source": [
    "import numpy as np\n",
    "import torch\n",
    "import pandas as pd\n",
    "from _network import SWAP\n",
    "from _dataset import Seismic"
   ]
  },
  {
   "attachments": {},
   "cell_type": "markdown",
   "metadata": {},
   "source": [
    "## load trained model"
   ]
  },
  {
   "cell_type": "code",
   "execution_count": 2,
   "metadata": {},
   "outputs": [
    {
     "data": {
      "text/plain": [
       "<All keys matched successfully>"
      ]
     },
     "execution_count": 2,
     "metadata": {},
     "output_type": "execute_result"
    }
   ],
   "source": [
    "swap = SWAP(3, 360, nf=32, adaptive_size=25, ks1 = [17, 11, 5], ks2=7).cuda()\n",
    "swap.load_state_dict(torch.load('checkpoints/swap_checkpoint.pth'))"
   ]
  },
  {
   "attachments": {},
   "cell_type": "markdown",
   "metadata": {},
   "source": [
    "## load test examples"
   ]
  },
  {
   "cell_type": "code",
   "execution_count": 3,
   "metadata": {},
   "outputs": [],
   "source": [
    "test_meta = pd.read_csv('example/test_meta.csv', sep='\\t')\n",
    "test_data = np.load('example/test_data.npy')\n",
    "test_dataset = Seismic(test_data, test_meta.event_azimuth.to_numpy(), \n",
    "                  signal_start=50, signal_length = 200, label_sigma = 10, is_aug_shift =False, is_minus = False)"
   ]
  },
  {
   "attachments": {},
   "cell_type": "markdown",
   "metadata": {},
   "source": [
    "## Inference on the test exmaples with trained model"
   ]
  },
  {
   "cell_type": "code",
   "execution_count": 12,
   "metadata": {},
   "outputs": [
    {
     "name": "stdout",
     "output_type": "stream",
     "text": [
      "azimuth_true=79.07   azimuth_pred=   77.37\n",
      "azimuth_true=111.24  azimuth_pred=  116.74\n",
      "azimuth_true=97.31   azimuth_pred=   95.10\n",
      "azimuth_true=121.14  azimuth_pred=  119.38\n",
      "azimuth_true=23.06   azimuth_pred=   58.30\n",
      "azimuth_true=303.60  azimuth_pred=  307.25\n",
      "azimuth_true=150.19  azimuth_pred=  147.00\n",
      "azimuth_true=277.45  azimuth_pred=  280.04\n",
      "azimuth_true=327.57  azimuth_pred=  326.88\n",
      "azimuth_true=184.05  azimuth_pred=  180.85\n"
     ]
    }
   ],
   "source": [
    "for index in range(10):\n",
    "    x, _  = test_dataset[index]                  # model input\n",
    "    azimuth_true = test_dataset.azimuths[index]  # ground truth azimuth\n",
    "    azimuth_pred = swap.inference(x)[0]          # predicted azimuth\n",
    "    print(f\"{azimuth_true=:<8.2f}{azimuth_pred=:>8.2f}\")"
   ]
  }
 ],
 "metadata": {
  "kernelspec": {
   "display_name": "base",
   "language": "python",
   "name": "python3"
  },
  "language_info": {
   "codemirror_mode": {
    "name": "ipython",
    "version": 3
   },
   "file_extension": ".py",
   "mimetype": "text/x-python",
   "name": "python",
   "nbconvert_exporter": "python",
   "pygments_lexer": "ipython3",
   "version": "3.9.7"
  },
  "orig_nbformat": 4,
  "vscode": {
   "interpreter": {
    "hash": "f441a55122c25bf77fdc532c4d712f77144221923afff12c9cd2879d9e591cce"
   }
  }
 },
 "nbformat": 4,
 "nbformat_minor": 2
}
